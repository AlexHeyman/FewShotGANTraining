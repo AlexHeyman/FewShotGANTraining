{
  "nbformat": 4,
  "nbformat_minor": 0,
  "metadata": {
    "colab": {
      "name": "datasamplers.ipynb",
      "provenance": [],
      "authorship_tag": "ABX9TyMEYim+EcypKUpHLY6JU6IO",
      "include_colab_link": true
    },
    "kernelspec": {
      "name": "python3",
      "display_name": "Python 3"
    },
    "language_info": {
      "name": "python"
    }
  },
  "cells": [
    {
      "cell_type": "markdown",
      "metadata": {
        "id": "view-in-github",
        "colab_type": "text"
      },
      "source": [
        "<a href=\"https://colab.research.google.com/github/AlexHeyman/FewShotGANTraining/blob/main/datasamplers.ipynb\" target=\"_parent\"><img src=\"https://colab.research.google.com/assets/colab-badge.svg\" alt=\"Open In Colab\"/></a>"
      ]
    },
    {
      "cell_type": "code",
      "execution_count": 2,
      "metadata": {
        "id": "10JsWJnSPKHi"
      },
      "outputs": [],
      "source": [
        "import numpy as np\n",
        "import torch\n",
        "import torch.utils.data as data\n",
        "from torch.utils.data import Dataset"
      ]
    },
    {
      "cell_type": "code",
      "source": [
        "def InfiniteSampler(n):\n",
        "    perm = np.random.permutation(n)\n",
        "    index = 0\n",
        "    while True:\n",
        "        yield perm[index]\n",
        "        index += 1\n",
        "        if index >= n:\n",
        "            perm = np.random.permutation(n)\n",
        "            index = 0"
      ],
      "metadata": {
        "id": "c2jaAjJqPSXc"
      },
      "execution_count": 9,
      "outputs": []
    },
    {
      "cell_type": "code",
      "source": [
        "class InfiniteSamplerWrapper(data.sampler.Sampler):\n",
        "    \"\"\"wrapper class\"\"\"\n",
        "    def __init__(self, data_source: Dataset):\n",
        "        self.number_of_samples = len(data_source)\n",
        "\n",
        "    def __iter__(self):\n",
        "        return iter(InfiniteSampler(self.number_of_samples))\n",
        "\n",
        "    def __len__(self):\n",
        "        return 2 ** 31\n"
      ],
      "metadata": {
        "id": "LVBcXNP6PSaF"
      },
      "execution_count": 6,
      "outputs": []
    },
    {
      "cell_type": "code",
      "source": [
        ""
      ],
      "metadata": {
        "id": "aiUbLFOUPScv"
      },
      "execution_count": null,
      "outputs": []
    },
    {
      "cell_type": "code",
      "source": [
        ""
      ],
      "metadata": {
        "id": "aWH9y9QLPSgT"
      },
      "execution_count": null,
      "outputs": []
    }
  ]
}