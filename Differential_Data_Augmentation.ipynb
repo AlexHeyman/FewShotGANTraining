{
  "nbformat": 4,
  "nbformat_minor": 0,
  "metadata": {
    "colab": {
      "name": "Differential_Data_Augmentation.ipynb",
      "provenance": [],
      "authorship_tag": "ABX9TyMIACq8Wpq+vo/qMCRWwD83",
      "include_colab_link": true
    },
    "kernelspec": {
      "name": "python3",
      "display_name": "Python 3"
    },
    "language_info": {
      "name": "python"
    }
  },
  "cells": [
    {
      "cell_type": "markdown",
      "metadata": {
        "id": "view-in-github",
        "colab_type": "text"
      },
      "source": [
        "<a href=\"https://colab.research.google.com/github/AlexHeyman/FewShotGANTraining/blob/main/Differential_Data_Augmentation.ipynb\" target=\"_parent\"><img src=\"https://colab.research.google.com/assets/colab-badge.svg\" alt=\"Open In Colab\"/></a>"
      ]
    },
    {
      "cell_type": "code",
      "execution_count": 11,
      "metadata": {
        "id": "QfJtZyJSIkoq"
      },
      "outputs": [],
      "source": [
        "import torch\n",
        "import torch.nn as nn\n",
        "import torch.nn.functional as F"
      ]
    },
    {
      "cell_type": "code",
      "source": [
        "def rand_brightness(a):\n",
        "    a = a + (torch.rand(a.size(0), 1, 1, 1, dtype=a.dtype, device=a.device) - 0.5)\n",
        "    return a"
      ],
      "metadata": {
        "id": "bBVsWen6I2R1"
      },
      "execution_count": 13,
      "outputs": []
    },
    {
      "cell_type": "code",
      "source": [
        "def rand_saturation(a):\n",
        "    a_mean = a.mean(dim=1, keepdim=True)\n",
        "    a = (a - a_mean) * (torch.rand(a.size(0), 1, 1, 1, dtype=a.dtype, device=a.device) * 2) + a_mean\n",
        "    return a"
      ],
      "metadata": {
        "id": "8rUINn7dJbwW"
      },
      "execution_count": 14,
      "outputs": []
    },
    {
      "cell_type": "code",
      "source": [
        "def rand_contrast(a):\n",
        "    a_mean = a.mean(dim=[1, 2, 3], keepdim=True)\n",
        "    a = (a - a_mean) * (torch.rand(a.size(0), 1, 1, 1, dtype=a.dtype, device=a.device) + 0.5) + a_mean\n",
        "    return a"
      ],
      "metadata": {
        "id": "PBN8NWajJby5"
      },
      "execution_count": 15,
      "outputs": []
    },
    {
      "cell_type": "code",
      "source": [
        "def rand_translation(a, ratio=0.125):\n",
        "    shift_a, shift_b = int(a.size(2) * ratio + 0.5), int(a.size(3) * ratio + 0.5)\n",
        "    translation_a = torch.randint(-shift_a, shift_a + 1, size=[a.size(0), 1, 1], device=a.device)\n",
        "    translation_b = torch.randint(-shift_b, shift_b + 1, size=[a.size(0), 1, 1], device=a.device)\n",
        "    grid_batch, grid_a, grid_b = torch.meshgrid(\n",
        "        torch.arange(a.size(0), dtype=torch.long, device=a.device),\n",
        "        torch.arange(a.size(2), dtype=torch.long, device=a.device),\n",
        "        torch.arange(a.size(3), dtype=torch.long, device=a.device),\n",
        "    )\n",
        "    grid_a = torch.clamp(grid_a + translation_a + 1, 0, a.size(2) + 1)\n",
        "    grid_b = torch.clamp(grid_b + translation_b + 1, 0, a.size(3) + 1)\n",
        "    a_pad = F.pad(a, [1, 1, 1, 1, 0, 0, 0, 0])\n",
        "    a = a_pad.permute(0, 2, 3, 1).contiguous()[grid_batch, grid_a, grid_b].permute(0, 3, 1, 2)\n",
        "    return a"
      ],
      "metadata": {
        "id": "Uv0UVZ93Jb1j"
      },
      "execution_count": 16,
      "outputs": []
    },
    {
      "cell_type": "code",
      "source": [
        "def rand_cutout(a, ratio=0.5):\n",
        "    cutout_size = int(a.size(2) * ratio + 0.5), int(a.size(3) * ratio + 0.5)\n",
        "    offset_a = torch.randint(0, a.size(2) + (1 - cutout_size[0] % 2), size=[a.size(0), 1, 1], device=a.device)\n",
        "    offset_b = torch.randint(0, a.size(3) + (1 - cutout_size[1] % 2), size=[a.size(0), 1, 1], device=a.device)\n",
        "    grid_batch, grid_a, grid_b = torch.meshgrid(\n",
        "        torch.arange(a.size(0), dtype=torch.long, device=a.device),\n",
        "        torch.arange(cutout_size[0], dtype=torch.long, device=a.device),\n",
        "        torch.arange(cutout_size[1], dtype=torch.long, device=a.device),\n",
        "    )\n",
        "    grid_a = torch.clamp(grid_a + offset_a - cutout_size[0] // 2, min=0, max=a.size(2) - 1)\n",
        "    grid_b = torch.clamp(grid_b + offset_b - cutout_size[1] // 2, min=0, max=a.size(3) - 1)\n",
        "    mask = torch.ones(a.size(0), a.size(2), a.size(3), dtype=a.dtype, device=a.device)\n",
        "    mask[grid_batch, grid_a, grid_b] = 0\n",
        "    a = a * mask.unsqueeze(1)\n",
        "    return a"
      ],
      "metadata": {
        "id": "WnR3ZBenL9FC"
      },
      "execution_count": 17,
      "outputs": []
    },
    {
      "cell_type": "code",
      "source": [
        "class Differential_Augmentation(nn.Module):\n",
        "\n",
        "    def __init__(self):\n",
        "        super().__init__()\n",
        "        self._augment = [\n",
        "                rand_brightness,\n",
        "                rand_saturation,\n",
        "                rand_contrast,\n",
        "                rand_translation,\n",
        "                rand_cutout,\n",
        "            ]\n",
        "\n",
        "    @torch.jit.ignore\n",
        "    def forward(self, images: torch.Tensor) -> torch.Tensor:\n",
        "        for augment in self._augment:\n",
        "            images = augment(images)\n",
        "        return images.contiguous()"
      ],
      "metadata": {
        "id": "qnpUBqMVMzCV"
      },
      "execution_count": 20,
      "outputs": []
    }
  ]
}