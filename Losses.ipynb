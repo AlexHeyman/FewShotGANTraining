{
  "nbformat": 4,
  "nbformat_minor": 0,
  "metadata": {
    "colab": {
      "name": "Losses.ipynb",
      "provenance": [],
      "authorship_tag": "ABX9TyOkA+dAXzB/heA8PlHlldyT",
      "include_colab_link": true
    },
    "kernelspec": {
      "name": "python3",
      "display_name": "Python 3"
    },
    "language_info": {
      "name": "python"
    }
  },
  "cells": [
    {
      "cell_type": "markdown",
      "metadata": {
        "id": "view-in-github",
        "colab_type": "text"
      },
      "source": [
        "<a href=\"https://colab.research.google.com/github/AlexHeyman/FewShotGANTraining/blob/main/Losses.ipynb\" target=\"_parent\"><img src=\"https://colab.research.google.com/assets/colab-badge.svg\" alt=\"Open In Colab\"/></a>"
      ]
    },
    {
      "cell_type": "code",
      "execution_count": 1,
      "metadata": {
        "id": "GMP7JABkMRfz"
      },
      "outputs": [],
      "source": [
        "import torch\n",
        "\n",
        "def discriminator_recontruction_loss(real_image, decoded_image):\n",
        "    return torch.reduce_mean(torch.nn.losses.MAE(real_image, decoded_image))\n",
        "\n",
        "\n",
        "def discriminator_real_fake_loss(real_fake_output_logits_on_real_images, real_fake_output_logits_on_fake_images):\n",
        "    real_loss = torch.minimum(0.0, -1 + real_fake_output_logits_on_real_images)\n",
        "    real_loss = -1 * torch.nn.reduce_mean(real_loss)\n",
        "\n",
        "    fake_loss = torch.minimum(0.0, -1 - real_fake_output_logits_on_fake_images)\n",
        "    fake_loss = -1 * torch.reduce_mean(fake_loss)\n",
        "\n",
        "    return real_loss + fake_loss\n",
        "\n",
        "\n",
        "def generator_loss(real_fake_output_logits_on_fake_images):\n",
        "    return -1 * torch.reduce_mean(real_fake_output_logits_on_fake_images)"
      ]
    }
  ]
}